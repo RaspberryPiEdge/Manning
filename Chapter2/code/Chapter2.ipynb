{
 "cells": [
  {
   "cell_type": "code",
   "execution_count": 1,
   "id": "d01e5377-0b20-4dd5-900e-9656782de322",
   "metadata": {},
   "outputs": [
    {
     "name": "stdout",
     "output_type": "stream",
     "text": [
      "Looking in indexes: https://pypi.org/simple, https://www.piwheels.org/simple\n",
      "Collecting opencv-python\n",
      "  Downloading opencv_python-4.8.0.76-cp37-abi3-manylinux_2_17_aarch64.manylinux2014_aarch64.whl (41.0 MB)\n",
      "\u001b[K     |████████████████████████████████| 41.0 MB 10 kB/s  eta 0:00:012   |████▊                           | 6.1 MB 1.5 MB/s eta 0:00:24     |██████████████▎                 | 18.2 MB 6.1 MB/s eta 0:00:04     |███████████████▊                | 20.2 MB 10.6 MB/s eta 0:00:02     |████████████████▍               | 21.1 MB 10.6 MB/s eta 0:00:02     |█████████████████████████████   | 37.2 MB 376 kB/s eta 0:00:11     |███████████████████████████████▉| 40.8 MB 2.7 MB/s eta 0:00:01\n",
      "\u001b[?25hRequirement already satisfied: numpy>=1.19.3 in /usr/lib/python3/dist-packages (from opencv-python) (1.19.5)\n",
      "Installing collected packages: opencv-python\n",
      "Successfully installed opencv-python-4.8.0.76\n"
     ]
    }
   ],
   "source": [
    "!pip install opencv-python"
   ]
  },
  {
   "cell_type": "code",
   "execution_count": 2,
   "id": "11b5d9c7-0ca7-405b-a6ba-ed52d6a9ed92",
   "metadata": {},
   "outputs": [
    {
     "name": "stdout",
     "output_type": "stream",
     "text": [
      "Python 3.9.2\n"
     ]
    }
   ],
   "source": [
    "!python -V"
   ]
  },
  {
   "cell_type": "code",
   "execution_count": 6,
   "id": "b48eb4de-dd38-4b5a-b6cb-5864e94db6a9",
   "metadata": {},
   "outputs": [],
   "source": [
    "import cv2 as cv\n",
    "\n",
    "img = cv.imread('Toronto.png')\n",
    "cv.imshow('Downtown Toronto', img)\n",
    "cv.waitKey(0)\n",
    "cv.destroyAllWindows()"
   ]
  },
  {
   "cell_type": "code",
   "execution_count": 7,
   "id": "b29c6634-b680-4664-9379-6c3e64a1bd0a",
   "metadata": {},
   "outputs": [],
   "source": [
    "gray_img = cv.cvtColor(img, cv.COLOR_BGR2GRAY)\n",
    "edges = cv.Canny(gray_img, 50, 150)\n",
    "cv.imshow(\"Edge Map\", edges)\n",
    "cv.waitKey(0)\n",
    "cv.destroyAllWindows()"
   ]
  },
  {
   "cell_type": "code",
   "execution_count": 9,
   "id": "04653db7-33bd-43e0-bf86-0837fdfda98b",
   "metadata": {},
   "outputs": [
    {
     "name": "stdout",
     "output_type": "stream",
     "text": [
      "1\n"
     ]
    }
   ],
   "source": [
    "import cv2 as cv\n",
    "\n",
    "model = cv.CascadeClassifier(\"haarcascade_frontalface_default.xml\")\n",
    "\n",
    "img = cv.imread(\"Faces.png\")\n",
    "gray_img = cv.cvtColor(img, cv.COLOR_BGR2GRAY)\n",
    "\n",
    "faces = model.detectMultiScale(gray_img)\n",
    "\n",
    "print (len(faces))"
   ]
  },
  {
   "cell_type": "code",
   "execution_count": 10,
   "id": "2aa53e8f-7669-4c9d-87ef-7c4f9975429f",
   "metadata": {},
   "outputs": [
    {
     "name": "stdout",
     "output_type": "stream",
     "text": [
      "0\n"
     ]
    }
   ],
   "source": [
    "import cv2 as cv\n",
    "\n",
    "model = cv.CascadeClassifier(\"haarcascade_frontalface_default.xml\")\n",
    "\n",
    "img = cv.imread(\"Toronto.png\")\n",
    "gray_img = cv.cvtColor(img, cv.COLOR_BGR2GRAY)\n",
    "\n",
    "faces = model.detectMultiScale(gray_img)\n",
    "\n",
    "print (len(faces))"
   ]
  },
  {
   "cell_type": "code",
   "execution_count": 12,
   "id": "7d414e30-a203-4fae-be03-fed0e21cb0f0",
   "metadata": {},
   "outputs": [],
   "source": [
    "img = cv.imread(\"Faces.png\")\n",
    "gray_img = cv.cvtColor(img, cv.COLOR_BGR2GRAY)\n",
    "\n",
    "faces = model.detectMultiScale(gray_img)\n",
    "\n",
    "if len(faces):\n",
    "    for (x,y,w,h) in faces:\n",
    "        cv.rectangle(img, (x,y), (x+w, y+h), (0, 255, 0), 2)\n",
    "\n",
    "    cv.imshow(\"Face found\", img)\n",
    "    cv.waitKey(0)\n",
    "    cv.destroyAllWindows()\n",
    "    "
   ]
  },
  {
   "cell_type": "code",
   "execution_count": 15,
   "id": "d1d47ea8-63af-41df-9f7e-94f3a5b15fcf",
   "metadata": {},
   "outputs": [],
   "source": [
    "import cv2 as cv\n",
    "import numpy as np\n",
    "\n",
    "with open('classification_classes_ILSVRC2012.txt', 'r') as class_text:\n",
    "    classification = class_text.read().split('\\n')\n",
    "\n",
    "model = cv.dnn.readNetFromCaffe('DenseNet_121.prototxt',\n",
    "                                'DenseNet_121.caffemodel')\n",
    "\n",
    "image = cv.imread('Dog.png')\n",
    "blob = cv.dnn.blobFromImage(image,0.01,(224,224),(104,117,123))\n",
    "\n",
    "model.setInput(blob)\n",
    "output = model.forward()\n",
    "\n",
    "scores = output.reshape(1000, 1)\n",
    "probability = np.max(np.exp(scores) / np.sum(np.exp(scores)))*100\n",
    "class_id = np.argmax(scores)\n",
    "label = classification[class_id]\n",
    "\n",
    "text = f\"{label}, {probability:.3f}\"\n",
    "\n",
    "cv.putText(image, text, (25,600), cv.FONT_HERSHEY_SIMPLEX,1.5,(0,0,0), 3)\n",
    "cv.imshow('What type of dog is this?', image)\n",
    "cv.waitKey(0)\n",
    "cv.destroyAllWindows()\n",
    "\n"
   ]
  },
  {
   "cell_type": "code",
   "execution_count": null,
   "id": "d92c3ca0-b960-4adc-97fc-a252c21fa87e",
   "metadata": {},
   "outputs": [],
   "source": []
  }
 ],
 "metadata": {
  "kernelspec": {
   "display_name": "Python 3 (ipykernel)",
   "language": "python",
   "name": "python3"
  },
  "language_info": {
   "codemirror_mode": {
    "name": "ipython",
    "version": 3
   },
   "file_extension": ".py",
   "mimetype": "text/x-python",
   "name": "python",
   "nbconvert_exporter": "python",
   "pygments_lexer": "ipython3",
   "version": "3.9.2"
  }
 },
 "nbformat": 4,
 "nbformat_minor": 5
}
