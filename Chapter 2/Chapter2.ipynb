{
 "cells": [
  {
   "cell_type": "markdown",
   "id": "d25b0350",
   "metadata": {},
   "source": [
    "# Exploring Computer Vision with OpenCV"
   ]
  },
  {
   "cell_type": "markdown",
   "id": "a816b7fa",
   "metadata": {},
   "source": [
    "We install OpenCV for Python with the following command"
   ]
  },
  {
   "cell_type": "code",
   "execution_count": 1,
   "id": "3c89dcea",
   "metadata": {
    "scrolled": true
   },
   "outputs": [
    {
     "name": "stdout",
     "output_type": "stream",
     "text": [
      "Looking in indexes: https://pypi.org/simple, https://www.piwheels.org/simple\n",
      "Collecting opencv-python\n",
      "  Downloading opencv_python-4.7.0.72-cp37-abi3-manylinux_2_17_aarch64.manylinux2014_aarch64.whl (40.4 MB)\n",
      "\u001b[K     |████████████████████████████████| 40.4 MB 20 kB/s  eta 0:00:012   |▉                               | 1.1 MB 2.2 MB/s eta 0:00:18     |██████████                      | 12.6 MB 10.6 MB/s eta 0:00:03\n",
      "\u001b[?25hRequirement already satisfied: numpy>=1.19.3 in /home/pi/jupyter/lib/python3.9/site-packages (from opencv-python) (1.24.2)\n",
      "Installing collected packages: opencv-python\n",
      "Successfully installed opencv-python-4.7.0.72\n"
     ]
    }
   ],
   "source": [
    "!pip install opencv-python"
   ]
  },
  {
   "cell_type": "markdown",
   "id": "a4291d5f",
   "metadata": {},
   "source": [
    "Let's use OpenCV to open up a window to display a photo. For the following example we show a \n",
    "picture of downtown Toronto with the file name 'Toronto.png'. \n",
    "This picture may be found along with this code in our GitHub page. Be sure to place the file in the \n",
    "same directory on your computer as this file."
   ]
  },
  {
   "cell_type": "code",
   "execution_count": 1,
   "id": "a6162757",
   "metadata": {},
   "outputs": [
    {
     "ename": "ModuleNotFoundError",
     "evalue": "No module named 'cv2'",
     "output_type": "error",
     "traceback": [
      "\u001b[1;31m---------------------------------------------------------------------------\u001b[0m",
      "\u001b[1;31mModuleNotFoundError\u001b[0m                       Traceback (most recent call last)",
      "\u001b[1;32m~\\AppData\\Local\\Temp\\ipykernel_6048\\3828828049.py\u001b[0m in \u001b[0;36m<module>\u001b[1;34m\u001b[0m\n\u001b[1;32m----> 1\u001b[1;33m \u001b[1;32mimport\u001b[0m \u001b[0mcv2\u001b[0m \u001b[1;32mas\u001b[0m \u001b[0mcv\u001b[0m\u001b[1;33m\u001b[0m\u001b[1;33m\u001b[0m\u001b[0m\n\u001b[0m\u001b[0;32m      2\u001b[0m \u001b[1;33m\u001b[0m\u001b[0m\n\u001b[0;32m      3\u001b[0m \u001b[0mimg\u001b[0m \u001b[1;33m=\u001b[0m \u001b[0mcv\u001b[0m\u001b[1;33m.\u001b[0m\u001b[0mimread\u001b[0m\u001b[1;33m(\u001b[0m\u001b[1;34m'Toronto.png'\u001b[0m\u001b[1;33m)\u001b[0m\u001b[1;33m\u001b[0m\u001b[1;33m\u001b[0m\u001b[0m\n\u001b[0;32m      4\u001b[0m \u001b[0mcv\u001b[0m\u001b[1;33m.\u001b[0m\u001b[0mimshow\u001b[0m\u001b[1;33m(\u001b[0m\u001b[1;34m'Downtown Toronto'\u001b[0m\u001b[1;33m,\u001b[0m \u001b[0mimg\u001b[0m\u001b[1;33m)\u001b[0m\u001b[1;33m\u001b[0m\u001b[1;33m\u001b[0m\u001b[0m\n\u001b[0;32m      5\u001b[0m \u001b[0mcv\u001b[0m\u001b[1;33m.\u001b[0m\u001b[0mwaitKey\u001b[0m\u001b[1;33m(\u001b[0m\u001b[1;36m0\u001b[0m\u001b[1;33m)\u001b[0m\u001b[1;33m\u001b[0m\u001b[1;33m\u001b[0m\u001b[0m\n",
      "\u001b[1;31mModuleNotFoundError\u001b[0m: No module named 'cv2'"
     ]
    }
   ],
   "source": [
    "import cv2 as cv\n",
    "\n",
    "img = cv.imread('Toronto.png')\n",
    "cv.imshow('Downtown Toronto', img)\n",
    "cv.waitKey(0)\n",
    "cv.destroyAllWindows()"
   ]
  },
  {
   "cell_type": "code",
   "execution_count": 3,
   "id": "46517e78",
   "metadata": {},
   "outputs": [],
   "source": [
    "gray_img = cv.cvtColor(img, cv.COLOR_BGR2GRAY)\n",
    "edges = cv.Canny(gray_img, 50, 150)\n",
    "cv.imshow(\"Edge Map\", edges)\n",
    "cv.waitKey(0)\n",
    "cv.destroyAllWindows()"
   ]
  },
  {
   "cell_type": "markdown",
   "id": "6fa9738d",
   "metadata": {},
   "source": [
    "Let's create an object that contains a list of image coordinates of human faces in an image."
   ]
  },
  {
   "cell_type": "code",
   "execution_count": 4,
   "id": "c66ae985",
   "metadata": {},
   "outputs": [
    {
     "name": "stdout",
     "output_type": "stream",
     "text": [
      "1\n"
     ]
    }
   ],
   "source": [
    "import cv2 as cv\n",
    "\n",
    "cascade = cv.CascadeClassifier(\"haarcascade_frontalface_default.xml\")\n",
    "\n",
    "img = cv.imread(\"Faces.png\")\n",
    "gray_img = cv.cvtColor(img, cv.COLOR_BGR2GRAY)\n",
    "\n",
    "faces = cascade.detectMultiScale(gray_img)\n",
    "\n",
    "print(len(faces))"
   ]
  },
  {
   "cell_type": "markdown",
   "id": "e3f258b7",
   "metadata": {},
   "source": [
    "Let's use the coordinates to draw a green rectangle around a human face"
   ]
  },
  {
   "cell_type": "code",
   "execution_count": 5,
   "id": "870ab90b",
   "metadata": {},
   "outputs": [],
   "source": [
    "img = cv.imread(\"Faces.png\")\n",
    "gray_img = cv.cvtColor(img, cv.COLOR_BGR2GRAY)\n",
    "\n",
    "faces = cascade.detectMultiScale(img)\n",
    "\n",
    "if len(faces):\n",
    "    \n",
    "    for (x, y, w, h) in faces:\n",
    "        cv.rectangle(img, (x, y), (x+w, y+h), (0, 255, 0), 2)\n",
    "        \n",
    "    cv.imshow(\"Face found\", img)\n",
    "    cv.waitKey(0)\n",
    "    cv.destroyAllWindows()"
   ]
  },
  {
   "cell_type": "code",
   "execution_count": 9,
   "id": "4d80c387",
   "metadata": {},
   "outputs": [
    {
     "name": "stdout",
     "output_type": "stream",
     "text": [
      "Python 3.9.13\n"
     ]
    }
   ],
   "source": [
    "!python -V"
   ]
  },
  {
   "cell_type": "code",
   "execution_count": null,
   "id": "1386edc5",
   "metadata": {},
   "outputs": [],
   "source": [
    "import cv2 as cv\n",
    "import numpy as np\n",
    "\n",
    "with open('classification_classes_ILSVRC2012.txt', 'r') as class_text:\n",
    "    classification = class_text.read().split('\\n')\n",
    "\n",
    "model=cv.dnn.readNetFromCaffe('DenseNet_121.prototxt','DenseNet_121.caffemodel')\n",
    "image=cv.imread('Dog.png')\n",
    "blob=cv.dnn.blobFromImage(image,0.01,(224,224),(104,117,123))\n",
    "\n",
    "model.setInput(blob)\n",
    "output = model.forward()\n",
    "\n",
    "scores = output.reshape(1000, 1)\n",
    "probability = np.max(np.exp(scores) / np.sum(np.exp(scores)))*100\n",
    "class_id = np.argmax(scores)\n",
    "label = classification[class_id]\n",
    "\n",
    "text = f\"{label}, {probability:.3f}\"\n",
    "\n",
    "cv.putText(image,text,(25,600),cv.FONT_HERSHEY_SIMPLEX,1.5,(0,0,0), 3)\n",
    "cv.imshow('What type of dog is this?', image)\n",
    "cv.waitKey(0)\n",
    "cv.destroyAllWindows()"
   ]
  },
  {
   "cell_type": "code",
   "execution_count": null,
   "id": "5e7474bb",
   "metadata": {},
   "outputs": [],
   "source": []
  }
 ],
 "metadata": {
  "kernelspec": {
   "display_name": "Python 3 (ipykernel)",
   "language": "python",
   "name": "python3"
  },
  "language_info": {
   "codemirror_mode": {
    "name": "ipython",
    "version": 3
   },
   "file_extension": ".py",
   "mimetype": "text/x-python",
   "name": "python",
   "nbconvert_exporter": "python",
   "pygments_lexer": "ipython3",
   "version": "3.9.13"
  },
  "vscode": {
   "interpreter": {
    "hash": "b07c767ad8f004fe0938b9527e9b3cbab4b30731c7ea224539f3f6ee22ec1af3"
   }
  }
 },
 "nbformat": 4,
 "nbformat_minor": 5
}
